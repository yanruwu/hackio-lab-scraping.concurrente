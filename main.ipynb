{
 "cells": [
  {
   "cell_type": "code",
   "execution_count": 27,
   "metadata": {},
   "outputs": [],
   "source": [
    "import concurrent.futures\n",
    "import pandas as pd\n",
    "import numpy as np\n",
    "from selenium import webdriver\n",
    "from selenium.webdriver.common.by import By\n",
    "from selenium.webdriver.chrome.service import Service\n",
    "from selenium.webdriver.chrome.options import Options\n",
    "from selenium.webdriver.support.ui import WebDriverWait\n",
    "from selenium.webdriver.support import expected_conditions as EC\n",
    "from bs4 import BeautifulSoup\n",
    "from time import sleep\n",
    "from src.dict_municipios import dict_municipios\n",
    "import sys\n",
    "sys.path.append(\"src\")\n",
    "from func import obtener_datos_municipio\n"
   ]
  },
  {
   "cell_type": "code",
   "execution_count": 28,
   "metadata": {},
   "outputs": [
    {
     "data": {
      "text/plain": [
       "<function func.obtener_datos_municipio(municipio, code, max_retries=3)>"
      ]
     },
     "execution_count": 28,
     "metadata": {},
     "output_type": "execute_result"
    }
   ],
   "source": []
  },
  {
   "cell_type": "code",
   "execution_count": 2,
   "metadata": {},
   "outputs": [],
   "source": [
    "def wait_and_click(drivers, xpath):\n",
    "    \"\"\"\n",
    "    Espera a que un elemento esté disponible en el DOM, luego intenta hacer clic en él hasta 5 veces.\n",
    "\n",
    "    Args:\n",
    "        drivers (selenium.webdriver): El controlador de Selenium que gestiona la interacción con el navegador.\n",
    "        xpath (str): La ruta xpath del elemento que se quiere encontrar y hacer clic.\n",
    "\n",
    "    Returns:\n",
    "        WebElement: El botón o elemento en el que se ha hecho clic.\n",
    "    \"\"\"\n",
    "    tries = 0\n",
    "    while True and tries < 5:\n",
    "        try:\n",
    "            button = WebDriverWait(drivers, 5).until(EC.presence_of_element_located((\"xpath\", xpath)))\n",
    "            sleep(2)\n",
    "            button.click()\n",
    "            break\n",
    "        except:\n",
    "            tries += 1\n",
    "            print(\"Try number\", tries)\n",
    "            continue\n",
    "    return button"
   ]
  },
  {
   "cell_type": "code",
   "execution_count": 6,
   "metadata": {},
   "outputs": [],
   "source": [
    "df = pd.read_csv(\"df_municipio_cat.csv\", index_col=0)\n",
    "municipios = df[\"Nombre_Municipio\"].unique()"
   ]
  },
  {
   "cell_type": "markdown",
   "metadata": {},
   "source": [
    "Método para sacar los municipios."
   ]
  },
  {
   "cell_type": "code",
   "execution_count": 60,
   "metadata": {},
   "outputs": [
    {
     "name": "stderr",
     "output_type": "stream",
     "text": [
      " 11%|█         | 6/57 [03:00<24:27, 28.78s/it]"
     ]
    },
    {
     "name": "stdout",
     "output_type": "stream",
     "text": [
      "Try number 1\n"
     ]
    },
    {
     "name": "stderr",
     "output_type": "stream",
     "text": [
      " 19%|█▉        | 11/57 [05:21<21:49, 28.46s/it]"
     ]
    },
    {
     "name": "stdout",
     "output_type": "stream",
     "text": [
      "Try number 1\n"
     ]
    },
    {
     "name": "stderr",
     "output_type": "stream",
     "text": [
      " 30%|██▉       | 17/57 [08:08<18:33, 27.84s/it]"
     ]
    },
    {
     "name": "stdout",
     "output_type": "stream",
     "text": [
      "Try number 1\n"
     ]
    },
    {
     "name": "stderr",
     "output_type": "stream",
     "text": [
      " 68%|██████▊   | 39/57 [18:49<08:48, 29.35s/it]"
     ]
    },
    {
     "name": "stdout",
     "output_type": "stream",
     "text": [
      "Try number 1\n"
     ]
    },
    {
     "name": "stderr",
     "output_type": "stream",
     "text": [
      " 75%|███████▌  | 43/57 [20:42<06:40, 28.59s/it]"
     ]
    },
    {
     "name": "stdout",
     "output_type": "stream",
     "text": [
      "Try number 1\n"
     ]
    },
    {
     "name": "stderr",
     "output_type": "stream",
     "text": [
      " 86%|████████▌ | 49/57 [23:33<03:46, 28.29s/it]"
     ]
    },
    {
     "name": "stdout",
     "output_type": "stream",
     "text": [
      "Try number 1\n"
     ]
    },
    {
     "name": "stderr",
     "output_type": "stream",
     "text": [
      " 88%|████████▊ | 50/57 [24:01<03:18, 28.39s/it]"
     ]
    },
    {
     "name": "stdout",
     "output_type": "stream",
     "text": [
      "Try number 1\n"
     ]
    },
    {
     "name": "stderr",
     "output_type": "stream",
     "text": [
      " 89%|████████▉ | 51/57 [24:27<02:45, 27.64s/it]"
     ]
    },
    {
     "name": "stdout",
     "output_type": "stream",
     "text": [
      "Try number 1\n"
     ]
    },
    {
     "name": "stderr",
     "output_type": "stream",
     "text": [
      " 98%|█████████▊| 56/57 [26:48<00:27, 27.92s/it]"
     ]
    },
    {
     "name": "stdout",
     "output_type": "stream",
     "text": [
      "Try number 1\n"
     ]
    },
    {
     "name": "stderr",
     "output_type": "stream",
     "text": [
      "100%|██████████| 57/57 [27:19<00:00, 28.76s/it]\n"
     ]
    }
   ],
   "source": [
    "# dict_codes = dict()\n",
    "# options = webdriver.ChromeOptions()\n",
    "# options.add_argument('--headless')\n",
    "\n",
    "# for municipio in tqdm(municipios[41:]):\n",
    "#     driver = webdriver.Chrome(options=options)\n",
    "#     driver.maximize_window()\n",
    "#     driver.get(url = \"https://www.wunderground.com\")\n",
    "#     cookies_frame = WebDriverWait(driver, 10).until(EC.presence_of_element_located((\"css selector\", \"#sp_message_iframe_1165301\")))\n",
    "#     driver.switch_to.frame(cookies_frame)\n",
    "#     reject_button = wait_and_click(driver, '//*[@id=\"notice\"]/div[3]/div[2]/button')\n",
    "#     sleep(1.5)\n",
    "#     driver.switch_to.default_content()\n",
    "#     search_box = wait_and_click(driver, xpath = '/html/body/app-root/app-home-page/one-column-layout/wu-header/sidenav/mat-sidenav-container/mat-sidenav-content/div[1]/div[2]/lib-search/div/div/div/input')\n",
    "#     search_box.send_keys(municipio+\", Madrid\")\n",
    "#     WebDriverWait(driver, 10).until(EC.presence_of_element_located((\"xpath\", '//*[@id=\"wuForm\"]/search-autocomplete/ul')))\n",
    "#     wait_and_click(driver, xpath='//*[@id=\"wuForm\"]/search-autocomplete/ul/li[2]/a/span[1]')\n",
    "\n",
    "#     wait_and_click(driver, xpath='//*[@id=\"inner-content\"]/div[2]/lib-city-header/div[1]/div/div/a[1]')\n",
    "\n",
    "#     code = driver.find_element(\"xpath\", '//*[@id=\"inner-content\"]/div[1]/app-dashboard-header/div[2]/div/div[2]/h1').text.split(\"-\")[1].strip()\n",
    "#     dict_codes[municipio] = code"
   ]
  },
  {
   "cell_type": "markdown",
   "metadata": {},
   "source": [
    "Exportamos los códigos."
   ]
  },
  {
   "cell_type": "code",
   "execution_count": 3,
   "metadata": {},
   "outputs": [],
   "source": [
    "from src.dict_municipios import dict_municipios\n",
    "\n",
    "dict_municipios\n",
    "\n",
    "df_municipios2 = pd.DataFrame(list(dict_municipios.keys()), list(dict_municipios.values())).reset_index()\n",
    "\n",
    "df_municipios2.to_csv(\"df_codigos.csv\")"
   ]
  },
  {
   "cell_type": "markdown",
   "metadata": {},
   "source": [
    "Convertimos a dataframe para el uso posterior."
   ]
  },
  {
   "cell_type": "code",
   "execution_count": 4,
   "metadata": {},
   "outputs": [],
   "source": [
    "df_municipios = pd.DataFrame(list(dict_municipios.keys()), list(dict_municipios.values()))\n",
    "df_municipios = df_municipios.head(10)"
   ]
  },
  {
   "cell_type": "markdown",
   "metadata": {},
   "source": [
    "Ahora definimos las funciones que van a estar ejecutándose durante los procesos paralelos."
   ]
  },
  {
   "cell_type": "code",
   "execution_count": 29,
   "metadata": {},
   "outputs": [
    {
     "data": {
      "text/html": [
       "<div>\n",
       "<style scoped>\n",
       "    .dataframe tbody tr th:only-of-type {\n",
       "        vertical-align: middle;\n",
       "    }\n",
       "\n",
       "    .dataframe tbody tr th {\n",
       "        vertical-align: top;\n",
       "    }\n",
       "\n",
       "    .dataframe thead th {\n",
       "        text-align: right;\n",
       "    }\n",
       "</style>\n",
       "<table border=\"1\" class=\"dataframe\">\n",
       "  <thead>\n",
       "    <tr style=\"text-align: right;\">\n",
       "      <th></th>\n",
       "      <th>Municipio</th>\n",
       "      <th>Date</th>\n",
       "      <th>High Temperature</th>\n",
       "      <th>Avg Temperature</th>\n",
       "      <th>Low Temperature</th>\n",
       "      <th>High Dew Point</th>\n",
       "      <th>Avg Dew Point</th>\n",
       "      <th>Low Dew Point</th>\n",
       "      <th>High Humidity</th>\n",
       "      <th>Avg Humidity</th>\n",
       "      <th>Low Humidity</th>\n",
       "      <th>High Speed</th>\n",
       "      <th>Avg Speed</th>\n",
       "      <th>Low Speed</th>\n",
       "      <th>High Pressure</th>\n",
       "      <th>Low Pressure</th>\n",
       "      <th>Sum</th>\n",
       "    </tr>\n",
       "  </thead>\n",
       "  <tbody>\n",
       "    <tr>\n",
       "      <th>0</th>\n",
       "      <td>Ajalvir</td>\n",
       "      <td>10/1/2024</td>\n",
       "      <td>84.7</td>\n",
       "      <td>65.9</td>\n",
       "      <td>52.2</td>\n",
       "      <td>52.7</td>\n",
       "      <td>41.8</td>\n",
       "      <td>32.9</td>\n",
       "      <td>56</td>\n",
       "      <td>42</td>\n",
       "      <td>24</td>\n",
       "      <td>5.1</td>\n",
       "      <td>0.1</td>\n",
       "      <td>0.0</td>\n",
       "      <td>30.19</td>\n",
       "      <td>30.06</td>\n",
       "      <td>0.00</td>\n",
       "    </tr>\n",
       "    <tr>\n",
       "      <th>1</th>\n",
       "      <td>Ajalvir</td>\n",
       "      <td>10/2/2024</td>\n",
       "      <td>75.9</td>\n",
       "      <td>68.6</td>\n",
       "      <td>61.5</td>\n",
       "      <td>61.2</td>\n",
       "      <td>55.9</td>\n",
       "      <td>50.4</td>\n",
       "      <td>77</td>\n",
       "      <td>64</td>\n",
       "      <td>50</td>\n",
       "      <td>6.5</td>\n",
       "      <td>0.8</td>\n",
       "      <td>0.0</td>\n",
       "      <td>30.11</td>\n",
       "      <td>29.92</td>\n",
       "      <td>0.00</td>\n",
       "    </tr>\n",
       "    <tr>\n",
       "      <th>2</th>\n",
       "      <td>Ajalvir</td>\n",
       "      <td>10/3/2024</td>\n",
       "      <td>75.6</td>\n",
       "      <td>65.4</td>\n",
       "      <td>58.6</td>\n",
       "      <td>61.0</td>\n",
       "      <td>48.3</td>\n",
       "      <td>39.6</td>\n",
       "      <td>84</td>\n",
       "      <td>57</td>\n",
       "      <td>29</td>\n",
       "      <td>8.9</td>\n",
       "      <td>1.5</td>\n",
       "      <td>0.0</td>\n",
       "      <td>30.10</td>\n",
       "      <td>29.94</td>\n",
       "      <td>0.02</td>\n",
       "    </tr>\n",
       "    <tr>\n",
       "      <th>3</th>\n",
       "      <td>Ajalvir</td>\n",
       "      <td>10/4/2024</td>\n",
       "      <td>80.2</td>\n",
       "      <td>62.0</td>\n",
       "      <td>49.8</td>\n",
       "      <td>50.0</td>\n",
       "      <td>45.2</td>\n",
       "      <td>40.1</td>\n",
       "      <td>72</td>\n",
       "      <td>55</td>\n",
       "      <td>32</td>\n",
       "      <td>3.6</td>\n",
       "      <td>0.2</td>\n",
       "      <td>0.0</td>\n",
       "      <td>30.13</td>\n",
       "      <td>30.04</td>\n",
       "      <td>0.01</td>\n",
       "    </tr>\n",
       "    <tr>\n",
       "      <th>4</th>\n",
       "      <td>Ajalvir</td>\n",
       "      <td>10/5/2024</td>\n",
       "      <td>78.1</td>\n",
       "      <td>63.7</td>\n",
       "      <td>50.0</td>\n",
       "      <td>59.0</td>\n",
       "      <td>49.8</td>\n",
       "      <td>42.3</td>\n",
       "      <td>78</td>\n",
       "      <td>61</td>\n",
       "      <td>42</td>\n",
       "      <td>3.8</td>\n",
       "      <td>0.3</td>\n",
       "      <td>0.0</td>\n",
       "      <td>30.11</td>\n",
       "      <td>30.01</td>\n",
       "      <td>0.00</td>\n",
       "    </tr>\n",
       "    <tr>\n",
       "      <th>5</th>\n",
       "      <td>Ajalvir</td>\n",
       "      <td>10/6/2024</td>\n",
       "      <td>74.1</td>\n",
       "      <td>67.5</td>\n",
       "      <td>63.5</td>\n",
       "      <td>59.0</td>\n",
       "      <td>56.1</td>\n",
       "      <td>53.4</td>\n",
       "      <td>77</td>\n",
       "      <td>67</td>\n",
       "      <td>51</td>\n",
       "      <td>5.1</td>\n",
       "      <td>0.8</td>\n",
       "      <td>0.0</td>\n",
       "      <td>30.06</td>\n",
       "      <td>29.97</td>\n",
       "      <td>0.00</td>\n",
       "    </tr>\n",
       "    <tr>\n",
       "      <th>6</th>\n",
       "      <td>Ajalvir</td>\n",
       "      <td>10/7/2024</td>\n",
       "      <td>73.8</td>\n",
       "      <td>61.7</td>\n",
       "      <td>56.3</td>\n",
       "      <td>57.4</td>\n",
       "      <td>53.1</td>\n",
       "      <td>47.1</td>\n",
       "      <td>95</td>\n",
       "      <td>75</td>\n",
       "      <td>41</td>\n",
       "      <td>6.7</td>\n",
       "      <td>0.2</td>\n",
       "      <td>0.0</td>\n",
       "      <td>29.98</td>\n",
       "      <td>29.81</td>\n",
       "      <td>0.15</td>\n",
       "    </tr>\n",
       "    <tr>\n",
       "      <th>7</th>\n",
       "      <td>Ajalvir</td>\n",
       "      <td>10/8/2024</td>\n",
       "      <td>63.9</td>\n",
       "      <td>58.3</td>\n",
       "      <td>54.3</td>\n",
       "      <td>56.1</td>\n",
       "      <td>53.6</td>\n",
       "      <td>50.9</td>\n",
       "      <td>94</td>\n",
       "      <td>85</td>\n",
       "      <td>67</td>\n",
       "      <td>5.1</td>\n",
       "      <td>0.8</td>\n",
       "      <td>0.0</td>\n",
       "      <td>30.04</td>\n",
       "      <td>29.91</td>\n",
       "      <td>0.15</td>\n",
       "    </tr>\n",
       "    <tr>\n",
       "      <th>8</th>\n",
       "      <td>Ajalvir</td>\n",
       "      <td>10/9/2024</td>\n",
       "      <td>66.4</td>\n",
       "      <td>60.4</td>\n",
       "      <td>56.8</td>\n",
       "      <td>62.4</td>\n",
       "      <td>56.2</td>\n",
       "      <td>50.5</td>\n",
       "      <td>95</td>\n",
       "      <td>86</td>\n",
       "      <td>69</td>\n",
       "      <td>8.1</td>\n",
       "      <td>0.6</td>\n",
       "      <td>0.0</td>\n",
       "      <td>29.99</td>\n",
       "      <td>29.70</td>\n",
       "      <td>0.30</td>\n",
       "    </tr>\n",
       "    <tr>\n",
       "      <th>9</th>\n",
       "      <td>Ajalvir</td>\n",
       "      <td>10/10/2024</td>\n",
       "      <td>70.2</td>\n",
       "      <td>57.0</td>\n",
       "      <td>47.3</td>\n",
       "      <td>50.9</td>\n",
       "      <td>45.0</td>\n",
       "      <td>39.7</td>\n",
       "      <td>85</td>\n",
       "      <td>66</td>\n",
       "      <td>36</td>\n",
       "      <td>4.0</td>\n",
       "      <td>0.3</td>\n",
       "      <td>0.0</td>\n",
       "      <td>30.10</td>\n",
       "      <td>29.89</td>\n",
       "      <td>0.30</td>\n",
       "    </tr>\n",
       "  </tbody>\n",
       "</table>\n",
       "</div>"
      ],
      "text/plain": [
       "  Municipio        Date High Temperature Avg Temperature Low Temperature  \\\n",
       "0   Ajalvir   10/1/2024             84.7            65.9            52.2   \n",
       "1   Ajalvir   10/2/2024             75.9            68.6            61.5   \n",
       "2   Ajalvir   10/3/2024             75.6            65.4            58.6   \n",
       "3   Ajalvir   10/4/2024             80.2            62.0            49.8   \n",
       "4   Ajalvir   10/5/2024             78.1            63.7            50.0   \n",
       "5   Ajalvir   10/6/2024             74.1            67.5            63.5   \n",
       "6   Ajalvir   10/7/2024             73.8            61.7            56.3   \n",
       "7   Ajalvir   10/8/2024             63.9            58.3            54.3   \n",
       "8   Ajalvir   10/9/2024             66.4            60.4            56.8   \n",
       "9   Ajalvir  10/10/2024             70.2            57.0            47.3   \n",
       "\n",
       "  High Dew Point Avg Dew Point Low Dew Point High Humidity Avg Humidity  \\\n",
       "0           52.7          41.8          32.9            56           42   \n",
       "1           61.2          55.9          50.4            77           64   \n",
       "2           61.0          48.3          39.6            84           57   \n",
       "3           50.0          45.2          40.1            72           55   \n",
       "4           59.0          49.8          42.3            78           61   \n",
       "5           59.0          56.1          53.4            77           67   \n",
       "6           57.4          53.1          47.1            95           75   \n",
       "7           56.1          53.6          50.9            94           85   \n",
       "8           62.4          56.2          50.5            95           86   \n",
       "9           50.9          45.0          39.7            85           66   \n",
       "\n",
       "  Low Humidity High Speed Avg Speed Low Speed High Pressure Low Pressure   Sum  \n",
       "0           24        5.1       0.1       0.0         30.19        30.06  0.00  \n",
       "1           50        6.5       0.8       0.0         30.11        29.92  0.00  \n",
       "2           29        8.9       1.5       0.0         30.10        29.94  0.02  \n",
       "3           32        3.6       0.2       0.0         30.13        30.04  0.01  \n",
       "4           42        3.8       0.3       0.0         30.11        30.01  0.00  \n",
       "5           51        5.1       0.8       0.0         30.06        29.97  0.00  \n",
       "6           41        6.7       0.2       0.0         29.98        29.81  0.15  \n",
       "7           67        5.1       0.8       0.0         30.04        29.91  0.15  \n",
       "8           69        8.1       0.6       0.0         29.99        29.70  0.30  \n",
       "9           36        4.0       0.3       0.0         30.10        29.89  0.30  "
      ]
     },
     "execution_count": 29,
     "metadata": {},
     "output_type": "execute_result"
    }
   ],
   "source": [
    "\n",
    "\n",
    "df_final = pd.DataFrame()\n",
    "\n",
    "max_workers = 5\n",
    "\n",
    "with concurrent.futures.ThreadPoolExecutor(max_workers=max_workers) as executor:\n",
    "    resultados = executor.map(obtener_datos_municipio, df_municipios[0], df_municipios.index)\n",
    "\n",
    "for resultado in resultados:\n",
    "    df_final = pd.concat([df_final, resultado], ignore_index=True)\n",
    "\n",
    "df_final.head(10)"
   ]
  },
  {
   "cell_type": "code",
   "execution_count": 31,
   "metadata": {},
   "outputs": [
    {
     "data": {
      "text/plain": [
       "(2909, 17)"
      ]
     },
     "execution_count": 31,
     "metadata": {},
     "output_type": "execute_result"
    }
   ],
   "source": [
    "df_final.shape"
   ]
  }
 ],
 "metadata": {
  "kernelspec": {
   "display_name": "Python 3",
   "language": "python",
   "name": "python3"
  },
  "language_info": {
   "codemirror_mode": {
    "name": "ipython",
    "version": 3
   },
   "file_extension": ".py",
   "mimetype": "text/x-python",
   "name": "python",
   "nbconvert_exporter": "python",
   "pygments_lexer": "ipython3",
   "version": "3.11.9"
  }
 },
 "nbformat": 4,
 "nbformat_minor": 2
}
